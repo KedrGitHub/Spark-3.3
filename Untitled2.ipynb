{
 "cells": [
  {
   "cell_type": "code",
   "execution_count": 3,
   "id": "e3fbdc95",
   "metadata": {},
   "outputs": [],
   "source": [
    "# !pip install randomtimestamp\n",
    "from pyspark.sql import SparkSession\n",
    "import pyspark.sql.types as tps\n",
    "import random\n",
    "from datetime import datetime, date\n",
    "from pyspark.sql import Row\n",
    "import  randomtimestamp as rt"
   ]
  },
  {
   "cell_type": "code",
   "execution_count": 4,
   "id": "69573ec6",
   "metadata": {},
   "outputs": [
    {
     "name": "stderr",
     "output_type": "stream",
     "text": [
      "22/12/11 07:42:23 WARN NativeCodeLoader: Unable to load native-hadoop library for your platform... using builtin-java classes where applicable\n",
      "Using Spark's default log4j profile: org/apache/spark/log4j-defaults.properties\n",
      "Setting default log level to \"WARN\".\n",
      "To adjust logging level use sc.setLogLevel(newLevel). For SparkR, use setLogLevel(newLevel).\n"
     ]
    }
   ],
   "source": [
    "spark = SparkSession.\\\n",
    "        builder.\\\n",
    "        appName(\"pyspark-notebook\").\\\n",
    "        master(\"spark://spark-master:7077\").\\\n",
    "        config(\"spark.executor.memory\", \"512m\").\\\n",
    "        getOrCreate()"
   ]
  },
  {
   "cell_type": "code",
   "execution_count": 5,
   "id": "b81a0368",
   "metadata": {},
   "outputs": [],
   "source": [
    "schema = tps.StructType([\n",
    "    tps.StructField('id', tps.IntegerType(), True),  # id пользователя\n",
    "    tps.StructField('timestamp',tps.TimestampType(), True), # timestamp события в unix формате\n",
    "    tps.StructField('type', tps.StringType(), True), # имя события  list = ['visit', 'click', 'scroll']\n",
    "    tps.StructField('page_id', tps.IntegerType(), True), # id текущей страницы\n",
    "    tps.StructField('tag', tps.StringType(), True),  #  тэг-тематика, list=['sport','poltican','medic']\n",
    "    tps.StructField('sign', tps.BooleanType()) # наличие у пользователя личного кабинета [True/False]\n",
    "    ])"
   ]
  },
  {
   "cell_type": "code",
   "execution_count": 7,
   "id": "6b60c148",
   "metadata": {},
   "outputs": [
    {
     "data": {
      "text/plain": [
       "DataFrame[id: int, timestamp: timestamp, type: string, page_id: int, tag: string, sign: boolean]"
      ]
     },
     "execution_count": 7,
     "metadata": {},
     "output_type": "execute_result"
    }
   ],
   "source": [
    "df = spark.createDataFrame([\n",
    "    (1, datetime(2020, 1, 1, 1), 'visit', 2,'sport', True),\n",
    "    (2, datetime(2020, 1, 1, 2), 'click', 3,'sport', True),\n",
    "    (3, datetime(2020, 1, 1, 3), 'scroll',4 ,'sport', True)\n",
    "], schema=schema)\n",
    "df"
   ]
  },
  {
   "cell_type": "code",
   "execution_count": 8,
   "id": "1496fbef",
   "metadata": {},
   "outputs": [
    {
     "name": "stderr",
     "output_type": "stream",
     "text": [
      "                                                                                \r"
     ]
    },
    {
     "data": {
      "text/plain": [
       "3"
      ]
     },
     "execution_count": 8,
     "metadata": {},
     "output_type": "execute_result"
    }
   ],
   "source": [
    "df.count()"
   ]
  },
  {
   "cell_type": "code",
   "execution_count": null,
   "id": "9ce55240",
   "metadata": {},
   "outputs": [],
   "source": []
  },
  {
   "cell_type": "code",
   "execution_count": 17,
   "id": "cd719eb2",
   "metadata": {},
   "outputs": [],
   "source": [
    "types = ['visit', 'click', 'scroll']\n",
    "tags = ['sport','poltican','medic']\n",
    "ar=[]\n",
    "for i in range(1,100): \n",
    "    #ar.append('(' + str(random.randint(1,10)) + ',' +datetime(2020, random.randint(1,12), random.randint(1,28), random.randint(1,23), random.randint(1,59), random.randint(1,59)).strftime('%Y%m%d %HH:%mm') + ',' + '\\''+ types[random.randint(0,2)] + '\\''+',' + str(random.randint(1,100)) + ',' + '\\''+ tags[random.randint(0,2)] + '\\'' + ','  + str(random.choice([True, False])) + ')' )\n",
    "    d=(random.randint(1,10),  rt.randomtimestamp(2020,2021), types[random.randint(0,2)], random.randint(1,100), tags[random.randint(0,2)], random.choice([True, False]))\n",
    "    ar.append(d)\n"
   ]
  },
  {
   "cell_type": "code",
   "execution_count": 19,
   "id": "99a0e1c2",
   "metadata": {},
   "outputs": [
    {
     "data": {
      "text/plain": [
       "DataFrame[id: int, timestamp: timestamp, type: string, page_id: int, tag: string, sign: boolean]"
      ]
     },
     "execution_count": 19,
     "metadata": {},
     "output_type": "execute_result"
    }
   ],
   "source": [
    "df = spark.createDataFrame(ar, schema=schema)\n",
    "df"
   ]
  },
  {
   "cell_type": "code",
   "execution_count": 20,
   "id": "15d2e1c3",
   "metadata": {},
   "outputs": [
    {
     "data": {
      "text/plain": [
       "[Row(id=3, timestamp=datetime.datetime(2020, 11, 6, 21, 22, 8), type='scroll', page_id=64, tag='medic', sign=True),\n",
       " Row(id=7, timestamp=datetime.datetime(2020, 10, 1, 21, 42, 28), type='click', page_id=81, tag='poltican', sign=False),\n",
       " Row(id=9, timestamp=datetime.datetime(2021, 2, 14, 7, 1, 58), type='click', page_id=51, tag='sport', sign=True),\n",
       " Row(id=2, timestamp=datetime.datetime(2020, 3, 6, 3, 1, 30), type='scroll', page_id=44, tag='medic', sign=True)]"
      ]
     },
     "execution_count": 20,
     "metadata": {},
     "output_type": "execute_result"
    }
   ],
   "source": [
    "df.head(4)"
   ]
  },
  {
   "cell_type": "code",
   "execution_count": null,
   "id": "e89f0907",
   "metadata": {},
   "outputs": [],
   "source": []
  },
  {
   "cell_type": "code",
   "execution_count": 27,
   "id": "aaa62471",
   "metadata": {},
   "outputs": [
    {
     "name": "stdout",
     "output_type": "stream",
     "text": [
      "+---+-------------------+------+-------+--------+-----+\n",
      "| id|          timestamp|  type|page_id|     tag| sign|\n",
      "+---+-------------------+------+-------+--------+-----+\n",
      "|  3|2020-11-06 21:22:08|scroll|     64|   medic| true|\n",
      "|  7|2020-10-01 21:42:28| click|     81|poltican|false|\n",
      "|  9|2021-02-14 07:01:58| click|     51|   sport| true|\n",
      "|  2|2020-03-06 03:01:30|scroll|     44|   medic| true|\n",
      "|  7|2021-08-15 13:57:15| visit|     84|poltican|false|\n",
      "|  9|2021-09-18 15:03:03| visit|     60|poltican| true|\n",
      "| 10|2021-02-02 03:28:46| click|     90|   sport|false|\n",
      "|  9|2021-04-28 22:13:13| click|     83|poltican|false|\n",
      "|  7|2021-01-04 11:08:15| visit|     33|   sport|false|\n",
      "|  9|2020-09-18 22:52:05|scroll|     77|   sport|false|\n",
      "|  6|2021-10-20 21:38:58|scroll|     52|poltican| true|\n",
      "|  4|2021-08-30 18:42:18| visit|     70|   sport|false|\n",
      "|  9|2020-08-26 00:43:18|scroll|     18|   medic|false|\n",
      "|  9|2021-12-21 16:08:35| click|     11|   medic|false|\n",
      "|  4|2020-11-04 12:25:26| click|     60|   medic|false|\n",
      "| 10|2020-01-25 01:02:28| click|     21|   medic|false|\n",
      "|  3|2020-07-14 22:50:12| visit|     58|poltican| true|\n",
      "|  3|2020-10-04 23:53:54| visit|     11|   sport|false|\n",
      "|  5|2021-08-29 19:06:05| click|     32|   sport|false|\n",
      "|  9|2020-12-21 05:47:35|scroll|     52|   sport| true|\n",
      "|  8|2021-06-07 04:57:20| visit|     16|poltican|false|\n",
      "|  8|2020-12-09 14:35:56|scroll|     71|   sport|false|\n",
      "|  3|2021-12-29 00:54:12| visit|      1|   medic|false|\n",
      "|  6|2021-11-06 05:25:35| click|      7|   sport|false|\n",
      "|  2|2020-11-15 03:25:28| click|     17|   sport|false|\n",
      "|  9|2020-10-16 10:10:49|scroll|     22|poltican|false|\n",
      "|  3|2021-08-20 22:32:46|scroll|     58|   sport| true|\n",
      "|  5|2020-10-23 06:58:37| click|     39|   sport|false|\n",
      "|  8|2021-05-21 13:08:37|scroll|     94|poltican|false|\n",
      "|  6|2020-02-10 14:21:34| click|      6|poltican| true|\n",
      "+---+-------------------+------+-------+--------+-----+\n",
      "only showing top 30 rows\n",
      "\n"
     ]
    }
   ],
   "source": [
    "df.show(30)"
   ]
  },
  {
   "cell_type": "code",
   "execution_count": null,
   "id": "e3655535",
   "metadata": {},
   "outputs": [],
   "source": [
    "# TOP 5 самых активных посетилетей"
   ]
  },
  {
   "cell_type": "code",
   "execution_count": 45,
   "id": "9019b68f",
   "metadata": {},
   "outputs": [],
   "source": [
    "top = df.groupBy(\"id\").count()"
   ]
  },
  {
   "cell_type": "code",
   "execution_count": 54,
   "id": "2187fd78",
   "metadata": {},
   "outputs": [
    {
     "name": "stdout",
     "output_type": "stream",
     "text": [
      "+---+-----+\n",
      "| id|count|\n",
      "+---+-----+\n",
      "|  9|   15|\n",
      "|  8|   12|\n",
      "|  3|   12|\n",
      "|  6|   12|\n",
      "|  7|   12|\n",
      "+---+-----+\n",
      "only showing top 5 rows\n",
      "\n"
     ]
    },
    {
     "name": "stderr",
     "output_type": "stream",
     "text": [
      "                                                                                \r"
     ]
    }
   ],
   "source": [
    "top.sort(\"count\", ascending=False).show(5)"
   ]
  },
  {
   "cell_type": "code",
   "execution_count": null,
   "id": "ca5e49a3",
   "metadata": {},
   "outputs": [],
   "source": []
  },
  {
   "cell_type": "markdown",
   "id": "eda7bdc4",
   "metadata": {},
   "source": [
    "•Посчитать процент посетителей, у которых есть ЛК\n",
    "•Вывести топ-5 страниц сайта по показателю общего кол-ва кликов на данной странице\n",
    "•Добавьте столбец к фрейму данных со значением временного диапазона в рамках суток с размером окна – 4 часа(0-4, 4-8, 8-12 и т.д.)\n",
    "•Выведите временной промежуток на основе предыдущего задания, в течение которого было больше всего активностей на сайте.\n",
    "•Создайте второй фрейм данных, который будет содержать информацию о ЛК посетителя сайта со следующим списком атрибутов\n",
    "1.       Id – уникальный идентификатор личного кабинета\n",
    "2.       User_id – уникальный идентификатор посетителя\n",
    "3.       ФИО посетителя\n",
    "4.    Дату рождения посетителя \n",
    "5.       Дата создания ЛК\n",
    "•Вывести фамилии посетителей, которые читали хотя бы одну новость про спорт."
   ]
  },
  {
   "cell_type": "code",
   "execution_count": 56,
   "id": "1cd70560",
   "metadata": {},
   "outputs": [],
   "source": [
    "#•Посчитать процент посетителей, у которых есть ЛК"
   ]
  },
  {
   "cell_type": "code",
   "execution_count": 78,
   "id": "c8572b08",
   "metadata": {},
   "outputs": [
    {
     "data": {
      "text/plain": [
       "39.39393939393939"
      ]
     },
     "execution_count": 78,
     "metadata": {},
     "output_type": "execute_result"
    }
   ],
   "source": [
    "(df.filter(df[\"sign\"]==True).count()/df.count())*100"
   ]
  },
  {
   "cell_type": "code",
   "execution_count": 67,
   "id": "93801211",
   "metadata": {},
   "outputs": [],
   "source": [
    "#Вывести топ-5 страниц сайта по показателю общего кол-ва кликов на данной странице"
   ]
  },
  {
   "cell_type": "code",
   "execution_count": 76,
   "id": "71d1e284",
   "metadata": {},
   "outputs": [
    {
     "name": "stdout",
     "output_type": "stream",
     "text": [
      "+-------+-----+\n",
      "|page_id|count|\n",
      "+-------+-----+\n",
      "|      7|    2|\n",
      "|     34|    2|\n",
      "|      3|    2|\n",
      "|     62|    2|\n",
      "|     86|    1|\n",
      "+-------+-----+\n",
      "only showing top 5 rows\n",
      "\n"
     ]
    }
   ],
   "source": [
    "df.filter(df[\"type\"]=='click').groupBy(\"page_id\").count().sort(\"count\", ascending=False).show(5)"
   ]
  },
  {
   "cell_type": "code",
   "execution_count": 77,
   "id": "34031dcf",
   "metadata": {},
   "outputs": [],
   "source": [
    "#Добавьте столбец к фрейму данных со значением временного диапазона в рамках суток с размером окна – 4 часа(0-4, 4-8, 8-12 и т.д.)"
   ]
  },
  {
   "cell_type": "code",
   "execution_count": 114,
   "id": "270fc8e6",
   "metadata": {},
   "outputs": [],
   "source": [
    "from pyspark.sql import functions as f"
   ]
  },
  {
   "cell_type": "code",
   "execution_count": 177,
   "id": "8be37325",
   "metadata": {},
   "outputs": [],
   "source": [
    "df2 = df.withColumn(\"interval\", f.when( f.hour(df.timestamp).isin(0,1,2,3) , \"0-4\")\\\n",
    "              .when(f.hour(df.timestamp).isin(4,5,6,7 ) , \"4-8\")\\\n",
    "              .when(f.hour(df.timestamp).isin(8,9,10,11) , \"8-12\")\\\n",
    "              .when(f.hour(df.timestamp).isin(12,13,14,15 ) , \"12-16\")\\\n",
    "              .when(f.hour(df.timestamp).isin(16,17,18,19 ) , \"16-20\")\\\n",
    "              .when(f.hour(df.timestamp).isin(20,21,22,23 ) , \"20-24\"))"
   ]
  },
  {
   "cell_type": "code",
   "execution_count": 178,
   "id": "deaa84dd",
   "metadata": {},
   "outputs": [
    {
     "name": "stdout",
     "output_type": "stream",
     "text": [
      "+---+-------------------+------+-------+--------+-----+--------+\n",
      "| id|          timestamp|  type|page_id|     tag| sign|interval|\n",
      "+---+-------------------+------+-------+--------+-----+--------+\n",
      "|  3|2020-11-06 21:22:08|scroll|     64|   medic| true|   20-24|\n",
      "|  7|2020-10-01 21:42:28| click|     81|poltican|false|   20-24|\n",
      "|  9|2021-02-14 07:01:58| click|     51|   sport| true|     4-8|\n",
      "|  2|2020-03-06 03:01:30|scroll|     44|   medic| true|     0-4|\n",
      "|  7|2021-08-15 13:57:15| visit|     84|poltican|false|   12-16|\n",
      "|  9|2021-09-18 15:03:03| visit|     60|poltican| true|   12-16|\n",
      "| 10|2021-02-02 03:28:46| click|     90|   sport|false|     0-4|\n",
      "|  9|2021-04-28 22:13:13| click|     83|poltican|false|   20-24|\n",
      "|  7|2021-01-04 11:08:15| visit|     33|   sport|false|    8-12|\n",
      "|  9|2020-09-18 22:52:05|scroll|     77|   sport|false|   20-24|\n",
      "|  6|2021-10-20 21:38:58|scroll|     52|poltican| true|   20-24|\n",
      "|  4|2021-08-30 18:42:18| visit|     70|   sport|false|   16-20|\n",
      "|  9|2020-08-26 00:43:18|scroll|     18|   medic|false|     0-4|\n",
      "|  9|2021-12-21 16:08:35| click|     11|   medic|false|   16-20|\n",
      "|  4|2020-11-04 12:25:26| click|     60|   medic|false|   12-16|\n",
      "| 10|2020-01-25 01:02:28| click|     21|   medic|false|     0-4|\n",
      "|  3|2020-07-14 22:50:12| visit|     58|poltican| true|   20-24|\n",
      "|  3|2020-10-04 23:53:54| visit|     11|   sport|false|   20-24|\n",
      "|  5|2021-08-29 19:06:05| click|     32|   sport|false|   16-20|\n",
      "|  9|2020-12-21 05:47:35|scroll|     52|   sport| true|     4-8|\n",
      "+---+-------------------+------+-------+--------+-----+--------+\n",
      "only showing top 20 rows\n",
      "\n"
     ]
    }
   ],
   "source": [
    "df2.show()"
   ]
  },
  {
   "cell_type": "code",
   "execution_count": null,
   "id": "093e20e7",
   "metadata": {},
   "outputs": [],
   "source": [
    "#•Выведите временной промежуток на основе предыдущего задания, в течение которого было больше всего активностей на сайте."
   ]
  },
  {
   "cell_type": "code",
   "execution_count": 182,
   "id": "7fcff10b",
   "metadata": {},
   "outputs": [
    {
     "name": "stdout",
     "output_type": "stream",
     "text": [
      "+--------+-----+\n",
      "|interval|count|\n",
      "+--------+-----+\n",
      "|   20-24|   21|\n",
      "+--------+-----+\n",
      "only showing top 1 row\n",
      "\n"
     ]
    },
    {
     "name": "stderr",
     "output_type": "stream",
     "text": [
      "                                                                                \r"
     ]
    }
   ],
   "source": [
    "df2.groupBy(\"interval\").count().sort(\"count\", ascending=False).show(1)"
   ]
  },
  {
   "cell_type": "code",
   "execution_count": 185,
   "id": "e27489f5",
   "metadata": {},
   "outputs": [],
   "source": [
    "#•Создайте второй фрейм данных, который будет содержать информацию о ЛК посетителя сайта со следующим списком атрибутов\n",
    "#1.       Id – уникальный идентификатор личного кабинета\n",
    "#2.       User_id – уникальный идентификатор посетителя\n",
    "#3.       ФИО посетителя\n",
    "#4.    Дату рождения посетителя \n",
    "#5.       Дата создания ЛК"
   ]
  },
  {
   "cell_type": "code",
   "execution_count": 186,
   "id": "e7f890c8",
   "metadata": {},
   "outputs": [],
   "source": [
    "schema2 = tps.StructType([\n",
    "    tps.StructField('Id', tps.IntegerType(), True),  # Id – уникальный идентификатор личного кабинета\n",
    "    tps.StructField('User_id',tps.IntegerType(), True), # уникальный идентификатор посетителя\n",
    "    tps.StructField('FIO', tps.StringType(), True), # ФИО посетителя\n",
    "    tps.StructField('BirdDate', tps.TimestampType(), True),  # Дату рождения посетителя \n",
    "    tps.StructField('Private_create_date', tps.TimestampType()) #  Дата создания ЛК\n",
    "    ])"
   ]
  },
  {
   "cell_type": "code",
   "execution_count": 188,
   "id": "1f941ae7",
   "metadata": {},
   "outputs": [
    {
     "data": {
      "text/plain": [
       "DataFrame[Id: int, User_id: int, FIO: string, BirdDate: timestamp, Private_create_date: timestamp]"
      ]
     },
     "execution_count": 188,
     "metadata": {},
     "output_type": "execute_result"
    }
   ],
   "source": [
    "dk = spark.createDataFrame([\n",
    "    (100, 1, 'Нестеров Дмитрий Витальевич' ,datetime(1985, 1, 2, 1), datetime(2020, 1, 1, 1)),\n",
    "    (200, 2, 'Галыгин Нестор Петрович' ,datetime(1975, 2, 1, 2),datetime(2020, 2, 1, 1)),\n",
    "    (300, 3, 'Петренко Виктор Павлович' ,datetime(1990, 2, 1, 3),datetime(2020, 3, 1, 1)),\n",
    "    (400, 4, 'Древко Леонид Иванович' ,datetime(1980, 6, 3, 1),datetime(2020, 3, 1, 1)),\n",
    "    (500, 5, 'Михалев Дмитрий Анатольевич' ,datetime(1952, 1, 15, 2),datetime(2020, 4, 1, 1)),\n",
    "    (600, 6, 'Михайленко Наталья Дмитриевна' ,datetime(1956, 12, 1, 3),datetime(2020, 5, 1, 1))\n",
    "    \n",
    "], schema=schema2)\n",
    "dk"
   ]
  },
  {
   "cell_type": "code",
   "execution_count": 187,
   "id": "d891497c",
   "metadata": {},
   "outputs": [],
   "source": [
    "# •Вывести фамилии посетителей, которые читали хотя бы одну новость про спорт."
   ]
  },
  {
   "cell_type": "code",
   "execution_count": 189,
   "id": "357e93a0",
   "metadata": {},
   "outputs": [
    {
     "name": "stdout",
     "output_type": "stream",
     "text": [
      "+---+-------+--------------------+-------------------+-------------------+\n",
      "| Id|User_id|                 FIO|           BirdDate|Private_create_date|\n",
      "+---+-------+--------------------+-------------------+-------------------+\n",
      "|100|      1|Нестеров Дмитрий ...|1985-01-02 01:00:00|2020-01-01 01:00:00|\n",
      "|200|      2|Галыгин Нестор Пе...|1975-02-01 02:00:00|2020-02-01 01:00:00|\n",
      "|300|      3|Петренко Виктор П...|1990-02-01 03:00:00|2020-03-01 01:00:00|\n",
      "|400|      4|Древко Леонид Ива...|1980-06-03 01:00:00|2020-03-01 01:00:00|\n",
      "|500|      5|Михалев Дмитрий А...|1952-01-15 02:00:00|2020-04-01 01:00:00|\n",
      "|600|      6|Михайленко Наталь...|1956-12-01 03:00:00|2020-05-01 01:00:00|\n",
      "+---+-------+--------------------+-------------------+-------------------+\n",
      "\n"
     ]
    }
   ],
   "source": [
    "dk.show()"
   ]
  },
  {
   "cell_type": "code",
   "execution_count": 207,
   "id": "17bf171d",
   "metadata": {},
   "outputs": [],
   "source": [
    "only_sport = df2.join(dk, dk.User_id == df2.id).select('*').where(df2.tag=='sport')"
   ]
  },
  {
   "cell_type": "code",
   "execution_count": 218,
   "id": "a47669ce",
   "metadata": {},
   "outputs": [
    {
     "name": "stderr",
     "output_type": "stream",
     "text": [
      "                                                                                \r"
     ]
    },
    {
     "name": "stdout",
     "output_type": "stream",
     "text": [
      "+--------------------+\n",
      "|                 FIO|\n",
      "+--------------------+\n",
      "|Михалев Дмитрий А...|\n",
      "|Михайленко Наталь...|\n",
      "|Петренко Виктор П...|\n",
      "|Древко Леонид Ива...|\n",
      "|Нестеров Дмитрий ...|\n",
      "|Галыгин Нестор Пе...|\n",
      "+--------------------+\n",
      "\n"
     ]
    }
   ],
   "source": [
    "only_sport.select(\"FIO\").distinct().show()"
   ]
  }
 ],
 "metadata": {
  "kernelspec": {
   "display_name": "Python 3 (ipykernel)",
   "language": "python",
   "name": "python3"
  },
  "language_info": {
   "codemirror_mode": {
    "name": "ipython",
    "version": 3
   },
   "file_extension": ".py",
   "mimetype": "text/x-python",
   "name": "python",
   "nbconvert_exporter": "python",
   "pygments_lexer": "ipython3",
   "version": "3.9.2"
  }
 },
 "nbformat": 4,
 "nbformat_minor": 5
}
